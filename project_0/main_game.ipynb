{
 "cells": [
  {
   "cell_type": "code",
   "execution_count": 1,
   "metadata": {},
   "outputs": [
    {
     "ename": "ImportError",
     "evalue": "cannot import name 'score_game' from 'game_v3' (c:\\IDE\\project_0\\game_v3.py)",
     "output_type": "error",
     "traceback": [
      "\u001b[1;31m---------------------------------------------------------------------------\u001b[0m",
      "\u001b[1;31mImportError\u001b[0m                               Traceback (most recent call last)",
      "\u001b[1;32mc:\\IDE\\project_0\\main_game.ipynb Cell 1'\u001b[0m in \u001b[0;36m<cell line: 1>\u001b[1;34m()\u001b[0m\n\u001b[1;32m----> <a href='vscode-notebook-cell:/c%3A/IDE/project_0/main_game.ipynb#ch0000000?line=0'>1</a>\u001b[0m \u001b[39mfrom\u001b[39;00m \u001b[39mgame_v3\u001b[39;00m \u001b[39mimport\u001b[39;00m score_game\n\u001b[0;32m      <a href='vscode-notebook-cell:/c%3A/IDE/project_0/main_game.ipynb#ch0000000?line=1'>2</a>\u001b[0m \u001b[39mfrom\u001b[39;00m \u001b[39mgame_v3\u001b[39;00m \u001b[39mimport\u001b[39;00m random_predict\n\u001b[0;32m      <a href='vscode-notebook-cell:/c%3A/IDE/project_0/main_game.ipynb#ch0000000?line=3'>4</a>\u001b[0m score_game(random_predict)\n",
      "\u001b[1;31mImportError\u001b[0m: cannot import name 'score_game' from 'game_v3' (c:\\IDE\\project_0\\game_v3.py)"
     ]
    }
   ],
   "source": [
    "from game_v3 import score_game\n",
    "from game_v3 import random_predict\n",
    "\n",
    "score_game(random_predict)"
   ]
  }
 ],
 "metadata": {
  "interpreter": {
   "hash": "cc0f03632646b030c9ef1795ca4bb66b680868e5d195cd71bddd472273f27265"
  },
  "kernelspec": {
   "display_name": "Python 3.9.7 ('SF')",
   "language": "python",
   "name": "python3"
  },
  "language_info": {
   "codemirror_mode": {
    "name": "ipython",
    "version": 3
   },
   "file_extension": ".py",
   "mimetype": "text/x-python",
   "name": "python",
   "nbconvert_exporter": "python",
   "pygments_lexer": "ipython3",
   "version": "3.9.7"
  },
  "orig_nbformat": 4
 },
 "nbformat": 4,
 "nbformat_minor": 2
}
